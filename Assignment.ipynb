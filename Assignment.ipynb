{
 "cells": [
  {
   "cell_type": "markdown",
   "metadata": {},
   "source": [
    "<h1>\n",
    "Assignment on Module 3    \n",
    "</h1>"
   ]
  },
  {
   "cell_type": "markdown",
   "metadata": {},
   "source": [
    "<h3>\n",
    "Task 1 ==> 1\n",
    "Write a function to compute 5/0 and use try/except to catch the exception\n",
    "</h3>"
   ]
  },
  {
   "cell_type": "code",
   "execution_count": 13,
   "metadata": {},
   "outputs": [
    {
     "name": "stdout",
     "output_type": "stream",
     "text": [
      "Can not devide by zero, error trace: division by zero\n"
     ]
    },
    {
     "data": {
      "text/plain": [
       "'Can not devide by zero'"
      ]
     },
     "execution_count": 13,
     "metadata": {},
     "output_type": "execute_result"
    }
   ],
   "source": [
    "def devideByZero(temp):\n",
    "    try:\n",
    "        temp2 = int(temp)/0\n",
    "    except ZeroDivisionError as err1:\n",
    "        print(\"Can not devide by zero, error trace: {}\".format(err1))\n",
    "        return \"Can not devide by zero\"\n",
    "    except Exception as err2:\n",
    "        print(\"Unknown error message description here {}\".format(err2))\n",
    "        return \"Unknown error while deviding\"\n",
    "        \n",
    "    return temp2\n",
    "\n",
    "devideByZero(5)"
   ]
  },
  {
   "cell_type": "markdown",
   "metadata": {},
   "source": [
    "<h3>\n",
    "Task 1 ==> 2\n",
    "Implement a python program to generate all sentences where subject is in [\"Americans\", \"Indians\"] and verb is in [\"Play\", \"watch\"] and object is in [\"Baseball\", \"Cricket\"]\n",
    "</h3>"
   ]
  },
  {
   "cell_type": "code",
   "execution_count": 14,
   "metadata": {},
   "outputs": [
    {
     "name": "stdout",
     "output_type": "stream",
     "text": [
      "Americans Play Baseball\n",
      "Americans Play Cricket\n",
      "Americans watch Baseball\n",
      "Americans watch Cricket\n",
      "Indians Play Baseball\n",
      "Indians Play Cricket\n",
      "Indians watch Baseball\n",
      "Indians watch Cricket\n"
     ]
    }
   ],
   "source": [
    "subject = [\"Americans\", \"Indians\"] \n",
    "verb = [\"Play\", \"watch\"]\n",
    "object = [\"Baseball\", \"Cricket\"]\n",
    "\n",
    "for k in subject:\n",
    "    for i in verb:\n",
    "        print(k + \" \" + i + \" \" + object[0])\n",
    "        print(k + \" \" + i + \" \" + object[1])"
   ]
  },
  {
   "cell_type": "markdown",
   "metadata": {},
   "source": [
    "<h3>\n",
    "Task 2:\n",
    "Write a function so that the columns of the output matrix are powers of the input vector. \n",
    "alexandre theophile vandermonde\n",
    "</h3>"
   ]
  },
  {
   "cell_type": "code",
   "execution_count": 61,
   "metadata": {},
   "outputs": [
    {
     "name": "stdout",
     "output_type": "stream",
     "text": [
      "Input array is: \n",
      "[[  4.  -8.  23.]\n",
      " [-15. -13.  -3.]]\n",
      "Alexandre Throphile Vandermonde output array is: \n",
      "[[  1.  -8. 529.]\n",
      " [  1. -13.   9.]]\n"
     ]
    }
   ],
   "source": [
    "import numpy as np\n",
    "\n",
    "def alexandreThrophileVandermonde(inputmat):\n",
    "    temp = np.ones(inputmat.shape, dtype=np.int8)\n",
    "    temp2 = temp.cumsum(axis=1)\n",
    "    print(\"Input array is: \")\n",
    "    print(inputmat)\n",
    "    print(\"Alexandre Throphile Vandermonde output array is: \")\n",
    "    print(inputmat ** (temp2-1))\n",
    "\n",
    "temp = np.array(np.floor(10*np.random.randn(2,3)))\n",
    "\n",
    "alexandreThrophileVandermonde(temp)"
   ]
  },
  {
   "cell_type": "code",
   "execution_count": null,
   "metadata": {},
   "outputs": [],
   "source": []
  }
 ],
 "metadata": {
  "kernelspec": {
   "display_name": "Python 3",
   "language": "python",
   "name": "python3"
  },
  "language_info": {
   "codemirror_mode": {
    "name": "ipython",
    "version": 3
   },
   "file_extension": ".py",
   "mimetype": "text/x-python",
   "name": "python",
   "nbconvert_exporter": "python",
   "pygments_lexer": "ipython3",
   "version": "3.7.1"
  }
 },
 "nbformat": 4,
 "nbformat_minor": 2
}
